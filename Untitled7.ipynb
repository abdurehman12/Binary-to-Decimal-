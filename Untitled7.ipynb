{
  "nbformat": 4,
  "nbformat_minor": 0,
  "metadata": {
    "colab": {
      "name": "Untitled7.ipynb",
      "provenance": []
    },
    "kernelspec": {
      "name": "python3",
      "display_name": "Python 3"
    },
    "language_info": {
      "name": "python"
    }
  },
  "cells": [
    {
      "cell_type": "code",
      "metadata": {
        "colab": {
          "base_uri": "https://localhost:8080/"
        },
        "id": "CxOXqzaOxlTH",
        "outputId": "e1637926-3fc5-4637-9ee8-53a6c42be8b0"
      },
      "source": [
        "# Python program to convert decimal into other number systems\n",
        "def DecimalConversion( dec):\n",
        "  print(\"The decimal value of\", dec, \"is:\")\n",
        "  print(bin(dec), \"in binary.\")\n",
        "  print(oct(dec), \"in octal.\")\n",
        "  print(hex(dec), \"in hexadecimal.\")\n",
        "\n",
        "DecimalConversion(12)\n",
        "DecimalConversion(15)"
      ],
      "execution_count": null,
      "outputs": [
        {
          "output_type": "stream",
          "name": "stdout",
          "text": [
            "The decimal value of 12 is:\n",
            "0b1100 in binary.\n",
            "0o14 in octal.\n",
            "0xc in hexadecimal.\n",
            "The decimal value of 15 is:\n",
            "0b1111 in binary.\n",
            "0o17 in octal.\n",
            "0xf in hexadecimal.\n"
          ]
        }
      ]
    },
    {
      "cell_type": "code",
      "metadata": {
        "id": "ufpWR5hJxqAV"
      },
      "source": [
        ""
      ],
      "execution_count": null,
      "outputs": []
    }
  ]
}